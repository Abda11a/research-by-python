{
 "cells": [
  {
   "cell_type": "code",
   "execution_count": 1,
   "id": "78388aee",
   "metadata": {},
   "outputs": [],
   "source": [
    "import math\n",
    "import numpy as np"
   ]
  },
  {
   "cell_type": "code",
   "execution_count": 2,
   "id": "b4b4d7d7",
   "metadata": {},
   "outputs": [],
   "source": [
    "t = (1,2,3,4)"
   ]
  },
  {
   "cell_type": "code",
   "execution_count": 3,
   "id": "3d3c2bdd",
   "metadata": {},
   "outputs": [
    {
     "data": {
      "text/plain": [
       "2"
      ]
     },
     "execution_count": 3,
     "metadata": {},
     "output_type": "execute_result"
    }
   ],
   "source": [
    "t[1]"
   ]
  },
  {
   "cell_type": "code",
   "execution_count": 4,
   "id": "ce9bc4ab",
   "metadata": {},
   "outputs": [],
   "source": [
    "x=12.3\n",
    "y=34.3"
   ]
  },
  {
   "cell_type": "code",
   "execution_count": 5,
   "id": "34a1cced",
   "metadata": {},
   "outputs": [],
   "source": [
    "coordinate =(x,y)"
   ]
  },
  {
   "cell_type": "code",
   "execution_count": 6,
   "id": "5e78a727",
   "metadata": {},
   "outputs": [
    {
     "data": {
      "text/plain": [
       "tuple"
      ]
     },
     "execution_count": 6,
     "metadata": {},
     "output_type": "execute_result"
    }
   ],
   "source": [
    "type(coordinate)"
   ]
  },
  {
   "cell_type": "code",
   "execution_count": 7,
   "id": "a2bdfce3",
   "metadata": {},
   "outputs": [],
   "source": [
    "#unpacking simple \n",
    "(c1,c2) = coordinate"
   ]
  },
  {
   "cell_type": "code",
   "execution_count": 8,
   "id": "b8396021",
   "metadata": {},
   "outputs": [
    {
     "data": {
      "text/plain": [
       "12.3"
      ]
     },
     "execution_count": 8,
     "metadata": {},
     "output_type": "execute_result"
    }
   ],
   "source": [
    "c1"
   ]
  },
  {
   "cell_type": "code",
   "execution_count": 9,
   "id": "cb2d42c1",
   "metadata": {},
   "outputs": [
    {
     "data": {
      "text/plain": [
       "34.3"
      ]
     },
     "execution_count": 9,
     "metadata": {},
     "output_type": "execute_result"
    }
   ],
   "source": [
    "c2"
   ]
  },
  {
   "cell_type": "code",
   "execution_count": 10,
   "id": "679cedeb",
   "metadata": {},
   "outputs": [
    {
     "data": {
      "text/plain": [
       "(12.3, 34.3)"
      ]
     },
     "execution_count": 10,
     "metadata": {},
     "output_type": "execute_result"
    }
   ],
   "source": [
    "coordinate"
   ]
  },
  {
   "cell_type": "code",
   "execution_count": 11,
   "id": "6c2d42d7",
   "metadata": {},
   "outputs": [
    {
     "data": {
      "text/plain": [
       "12.3"
      ]
     },
     "execution_count": 11,
     "metadata": {},
     "output_type": "execute_result"
    }
   ],
   "source": [
    "x"
   ]
  },
  {
   "cell_type": "code",
   "execution_count": 12,
   "id": "43db72c5",
   "metadata": {},
   "outputs": [
    {
     "data": {
      "text/plain": [
       "34.3"
      ]
     },
     "execution_count": 12,
     "metadata": {},
     "output_type": "execute_result"
    }
   ],
   "source": [
    "y"
   ]
  },
  {
   "cell_type": "code",
   "execution_count": 13,
   "id": "19875174",
   "metadata": {},
   "outputs": [
    {
     "data": {
      "text/plain": [
       "True"
      ]
     },
     "execution_count": 13,
     "metadata": {},
     "output_type": "execute_result"
    }
   ],
   "source": [
    "x is c1"
   ]
  },
  {
   "cell_type": "code",
   "execution_count": 14,
   "id": "439a5223",
   "metadata": {},
   "outputs": [
    {
     "data": {
      "text/plain": [
       "True"
      ]
     },
     "execution_count": 14,
     "metadata": {},
     "output_type": "execute_result"
    }
   ],
   "source": [
    "y is c2"
   ]
  },
  {
   "cell_type": "code",
   "execution_count": 15,
   "id": "a56c3234",
   "metadata": {},
   "outputs": [],
   "source": [
    "coordinates_values =[(1,1),(2,2),(3,3),(4,4)]"
   ]
  },
  {
   "cell_type": "code",
   "execution_count": 16,
   "id": "69616cd4",
   "metadata": {},
   "outputs": [
    {
     "data": {
      "text/plain": [
       "[(1, 1), (2, 2), (3, 3), (4, 4)]"
      ]
     },
     "execution_count": 16,
     "metadata": {},
     "output_type": "execute_result"
    }
   ],
   "source": [
    "coordinates_values"
   ]
  },
  {
   "cell_type": "code",
   "execution_count": 17,
   "id": "6dae6a38",
   "metadata": {},
   "outputs": [
    {
     "name": "stdout",
     "output_type": "stream",
     "text": [
      "1 1\n",
      "2 2\n",
      "3 3\n",
      "4 4\n"
     ]
    }
   ],
   "source": [
    "#un packinig tubels in aloop\n",
    "for (x,y) in coordinates_values:\n",
    "    print (x,y)"
   ]
  },
  {
   "cell_type": "code",
   "execution_count": 18,
   "id": "280ed29e",
   "metadata": {},
   "outputs": [],
   "source": [
    "c=(2,4)"
   ]
  },
  {
   "cell_type": "code",
   "execution_count": 19,
   "id": "48106f67",
   "metadata": {},
   "outputs": [
    {
     "data": {
      "text/plain": [
       "tuple"
      ]
     },
     "execution_count": 19,
     "metadata": {},
     "output_type": "execute_result"
    }
   ],
   "source": [
    "type(c)"
   ]
  },
  {
   "cell_type": "code",
   "execution_count": 20,
   "id": "818a6cd5",
   "metadata": {},
   "outputs": [],
   "source": [
    "b=(2)"
   ]
  },
  {
   "cell_type": "code",
   "execution_count": 21,
   "id": "dab10fdb",
   "metadata": {},
   "outputs": [
    {
     "data": {
      "text/plain": [
       "int"
      ]
     },
     "execution_count": 21,
     "metadata": {},
     "output_type": "execute_result"
    }
   ],
   "source": [
    "type (b)"
   ]
  },
  {
   "cell_type": "code",
   "execution_count": 22,
   "id": "763cdbd7",
   "metadata": {},
   "outputs": [],
   "source": [
    "b=(2,)"
   ]
  },
  {
   "cell_type": "code",
   "execution_count": 23,
   "id": "40a15f94",
   "metadata": {},
   "outputs": [
    {
     "data": {
      "text/plain": [
       "tuple"
      ]
     },
     "execution_count": 23,
     "metadata": {},
     "output_type": "execute_result"
    }
   ],
   "source": [
    "type(b)"
   ]
  },
  {
   "cell_type": "code",
   "execution_count": 24,
   "id": "5d733bd3",
   "metadata": {},
   "outputs": [],
   "source": [
    "x=(1,2,3)"
   ]
  },
  {
   "cell_type": "code",
   "execution_count": 25,
   "id": "d864d656",
   "metadata": {},
   "outputs": [
    {
     "data": {
      "text/plain": [
       "int"
      ]
     },
     "execution_count": 25,
     "metadata": {},
     "output_type": "execute_result"
    }
   ],
   "source": [
    "type(2,)"
   ]
  },
  {
   "cell_type": "code",
   "execution_count": 26,
   "id": "557d2cc3",
   "metadata": {},
   "outputs": [
    {
     "data": {
      "text/plain": [
       "tuple"
      ]
     },
     "execution_count": 26,
     "metadata": {},
     "output_type": "execute_result"
    }
   ],
   "source": [
    "type((2,))"
   ]
  },
  {
   "cell_type": "code",
   "execution_count": 27,
   "id": "94fb86c5",
   "metadata": {},
   "outputs": [
    {
     "data": {
      "text/plain": [
       "range(0, 5)"
      ]
     },
     "execution_count": 27,
     "metadata": {},
     "output_type": "execute_result"
    }
   ],
   "source": [
    "range(5)"
   ]
  },
  {
   "cell_type": "code",
   "execution_count": 28,
   "id": "53eb0063",
   "metadata": {},
   "outputs": [
    {
     "data": {
      "text/plain": [
       "[0, 1, 2, 3, 4]"
      ]
     },
     "execution_count": 28,
     "metadata": {},
     "output_type": "execute_result"
    }
   ],
   "source": [
    "list(range(5))"
   ]
  },
  {
   "cell_type": "code",
   "execution_count": 29,
   "id": "acd859fb",
   "metadata": {},
   "outputs": [
    {
     "data": {
      "text/plain": [
       "[1, 2, 3, 4, 5]"
      ]
     },
     "execution_count": 29,
     "metadata": {},
     "output_type": "execute_result"
    }
   ],
   "source": [
    "list(range(1,6))"
   ]
  },
  {
   "cell_type": "code",
   "execution_count": 30,
   "id": "003a2024",
   "metadata": {},
   "outputs": [
    {
     "data": {
      "text/plain": [
       "[1, 3, 5, 7, 9, 11]"
      ]
     },
     "execution_count": 30,
     "metadata": {},
     "output_type": "execute_result"
    }
   ],
   "source": [
    "list(range(1,13,2))"
   ]
  },
  {
   "cell_type": "code",
   "execution_count": 31,
   "id": "b03e608a",
   "metadata": {},
   "outputs": [],
   "source": [
    "s=\"python\""
   ]
  },
  {
   "cell_type": "code",
   "execution_count": 32,
   "id": "296e30de",
   "metadata": {},
   "outputs": [
    {
     "data": {
      "text/plain": [
       "'y'"
      ]
     },
     "execution_count": 32,
     "metadata": {},
     "output_type": "execute_result"
    }
   ],
   "source": [
    "s[1]"
   ]
  },
  {
   "cell_type": "code",
   "execution_count": 33,
   "id": "804b487d",
   "metadata": {},
   "outputs": [
    {
     "data": {
      "text/plain": [
       "'n'"
      ]
     },
     "execution_count": 33,
     "metadata": {},
     "output_type": "execute_result"
    }
   ],
   "source": [
    "s[-1]"
   ]
  },
  {
   "cell_type": "code",
   "execution_count": 34,
   "id": "bc621bee",
   "metadata": {},
   "outputs": [
    {
     "data": {
      "text/plain": [
       "'pyt'"
      ]
     },
     "execution_count": 34,
     "metadata": {},
     "output_type": "execute_result"
    }
   ],
   "source": [
    "s[0:3]"
   ]
  },
  {
   "cell_type": "code",
   "execution_count": 35,
   "id": "f3c0635d",
   "metadata": {},
   "outputs": [
    {
     "data": {
      "text/plain": [
       "'hon'"
      ]
     },
     "execution_count": 35,
     "metadata": {},
     "output_type": "execute_result"
    }
   ],
   "source": [
    "s[-3:]"
   ]
  },
  {
   "cell_type": "code",
   "execution_count": 36,
   "id": "3e7bbce0",
   "metadata": {},
   "outputs": [
    {
     "data": {
      "text/plain": [
       "'pyt'"
      ]
     },
     "execution_count": 36,
     "metadata": {},
     "output_type": "execute_result"
    }
   ],
   "source": [
    "s[:-3]"
   ]
  },
  {
   "cell_type": "code",
   "execution_count": 37,
   "id": "c6c18c69",
   "metadata": {},
   "outputs": [
    {
     "data": {
      "text/plain": [
       "True"
      ]
     },
     "execution_count": 37,
     "metadata": {},
     "output_type": "execute_result"
    }
   ],
   "source": [
    "\"y\" in s"
   ]
  },
  {
   "cell_type": "code",
   "execution_count": 38,
   "id": "a932a132",
   "metadata": {},
   "outputs": [],
   "source": [
    "text = \"I will do\" + \" \" + \"What i want ,\""
   ]
  },
  {
   "cell_type": "code",
   "execution_count": 39,
   "id": "bee76cb4",
   "metadata": {},
   "outputs": [
    {
     "data": {
      "text/plain": [
       "'I will do What i want ,'"
      ]
     },
     "execution_count": 39,
     "metadata": {},
     "output_type": "execute_result"
    }
   ],
   "source": [
    "text"
   ]
  },
  {
   "cell_type": "code",
   "execution_count": 40,
   "id": "2a9bfa57",
   "metadata": {},
   "outputs": [
    {
     "data": {
      "text/plain": [
       "'I will do What i want ,I will do What i want ,I will do What i want ,'"
      ]
     },
     "execution_count": 40,
     "metadata": {},
     "output_type": "execute_result"
    }
   ],
   "source": [
    "text * 3"
   ]
  },
  {
   "cell_type": "code",
   "execution_count": null,
   "id": "83b3d6b6",
   "metadata": {},
   "outputs": [],
   "source": []
  },
  {
   "cell_type": "code",
   "execution_count": 41,
   "id": "364eb744",
   "metadata": {},
   "outputs": [
    {
     "data": {
      "text/plain": [
       "'eight equal = 8'"
      ]
     },
     "execution_count": 41,
     "metadata": {},
     "output_type": "execute_result"
    }
   ],
   "source": [
    "\"eight equal = \" + str(8)"
   ]
  },
  {
   "cell_type": "code",
   "execution_count": 42,
   "id": "70640892",
   "metadata": {},
   "outputs": [
    {
     "data": {
      "text/plain": [
       "['__add__',\n",
       " '__class__',\n",
       " '__contains__',\n",
       " '__delattr__',\n",
       " '__dir__',\n",
       " '__doc__',\n",
       " '__eq__',\n",
       " '__format__',\n",
       " '__ge__',\n",
       " '__getattribute__',\n",
       " '__getitem__',\n",
       " '__getnewargs__',\n",
       " '__gt__',\n",
       " '__hash__',\n",
       " '__init__',\n",
       " '__init_subclass__',\n",
       " '__iter__',\n",
       " '__le__',\n",
       " '__len__',\n",
       " '__lt__',\n",
       " '__mod__',\n",
       " '__mul__',\n",
       " '__ne__',\n",
       " '__new__',\n",
       " '__reduce__',\n",
       " '__reduce_ex__',\n",
       " '__repr__',\n",
       " '__rmod__',\n",
       " '__rmul__',\n",
       " '__setattr__',\n",
       " '__sizeof__',\n",
       " '__str__',\n",
       " '__subclasshook__',\n",
       " 'capitalize',\n",
       " 'casefold',\n",
       " 'center',\n",
       " 'count',\n",
       " 'encode',\n",
       " 'endswith',\n",
       " 'expandtabs',\n",
       " 'find',\n",
       " 'format',\n",
       " 'format_map',\n",
       " 'index',\n",
       " 'isalnum',\n",
       " 'isalpha',\n",
       " 'isascii',\n",
       " 'isdecimal',\n",
       " 'isdigit',\n",
       " 'isidentifier',\n",
       " 'islower',\n",
       " 'isnumeric',\n",
       " 'isprintable',\n",
       " 'isspace',\n",
       " 'istitle',\n",
       " 'isupper',\n",
       " 'join',\n",
       " 'ljust',\n",
       " 'lower',\n",
       " 'lstrip',\n",
       " 'maketrans',\n",
       " 'partition',\n",
       " 'removeprefix',\n",
       " 'removesuffix',\n",
       " 'replace',\n",
       " 'rfind',\n",
       " 'rindex',\n",
       " 'rjust',\n",
       " 'rpartition',\n",
       " 'rsplit',\n",
       " 'rstrip',\n",
       " 'split',\n",
       " 'splitlines',\n",
       " 'startswith',\n",
       " 'strip',\n",
       " 'swapcase',\n",
       " 'title',\n",
       " 'translate',\n",
       " 'upper',\n",
       " 'zfill']"
      ]
     },
     "execution_count": 42,
     "metadata": {},
     "output_type": "execute_result"
    }
   ],
   "source": [
    "dir(str)"
   ]
  },
  {
   "cell_type": "code",
   "execution_count": 43,
   "id": "6b3abc0c",
   "metadata": {},
   "outputs": [],
   "source": [
    "str.replace?"
   ]
  },
  {
   "cell_type": "code",
   "execution_count": 44,
   "id": "7bfcbdc5",
   "metadata": {},
   "outputs": [],
   "source": [
    "name = \"Abdullah \""
   ]
  },
  {
   "cell_type": "code",
   "execution_count": 45,
   "id": "af46e817",
   "metadata": {},
   "outputs": [
    {
     "data": {
      "text/plain": [
       "'Abdullah '"
      ]
     },
     "execution_count": 45,
     "metadata": {},
     "output_type": "execute_result"
    }
   ],
   "source": [
    "name"
   ]
  },
  {
   "cell_type": "code",
   "execution_count": 46,
   "id": "89c6b7b7",
   "metadata": {},
   "outputs": [
    {
     "data": {
      "text/plain": [
       "'abdullah '"
      ]
     },
     "execution_count": 46,
     "metadata": {},
     "output_type": "execute_result"
    }
   ],
   "source": [
    "name.replace(\"A\",\"a\")"
   ]
  },
  {
   "cell_type": "code",
   "execution_count": 47,
   "id": "9f0e4752",
   "metadata": {},
   "outputs": [
    {
     "data": {
      "text/plain": [
       "'Abdullah '"
      ]
     },
     "execution_count": 47,
     "metadata": {},
     "output_type": "execute_result"
    }
   ],
   "source": [
    "name"
   ]
  },
  {
   "cell_type": "code",
   "execution_count": 48,
   "id": "2cd0bd88",
   "metadata": {},
   "outputs": [],
   "source": [
    "new_name = name.replace(\"A\",\"a\")"
   ]
  },
  {
   "cell_type": "code",
   "execution_count": 49,
   "id": "3630aa80",
   "metadata": {},
   "outputs": [
    {
     "data": {
      "text/plain": [
       "'abdullah '"
      ]
     },
     "execution_count": 49,
     "metadata": {},
     "output_type": "execute_result"
    }
   ],
   "source": [
    "new_name"
   ]
  },
  {
   "cell_type": "code",
   "execution_count": 50,
   "id": "9f182823",
   "metadata": {},
   "outputs": [],
   "source": [
    "names = [\"Ahmed\" , \"Abdullah\"]"
   ]
  },
  {
   "cell_type": "code",
   "execution_count": 51,
   "id": "6054a33c",
   "metadata": {},
   "outputs": [
    {
     "data": {
      "text/plain": [
       "list"
      ]
     },
     "execution_count": 51,
     "metadata": {},
     "output_type": "execute_result"
    }
   ],
   "source": [
    "type(names)"
   ]
  },
  {
   "cell_type": "code",
   "execution_count": 52,
   "id": "0815bf19",
   "metadata": {},
   "outputs": [
    {
     "data": {
      "text/plain": [
       "'Ahmed'"
      ]
     },
     "execution_count": 52,
     "metadata": {},
     "output_type": "execute_result"
    }
   ],
   "source": [
    "names[0]"
   ]
  },
  {
   "cell_type": "code",
   "execution_count": 53,
   "id": "6565dacd",
   "metadata": {},
   "outputs": [
    {
     "data": {
      "text/plain": [
       "2"
      ]
     },
     "execution_count": 53,
     "metadata": {},
     "output_type": "execute_result"
    }
   ],
   "source": [
    "len(names)"
   ]
  },
  {
   "cell_type": "code",
   "execution_count": 54,
   "id": "31f4b708",
   "metadata": {},
   "outputs": [
    {
     "data": {
      "text/plain": [
       "'AHMED'"
      ]
     },
     "execution_count": 54,
     "metadata": {},
     "output_type": "execute_result"
    }
   ],
   "source": [
    "names[0].upper()"
   ]
  },
  {
   "cell_type": "code",
   "execution_count": 55,
   "id": "aceb0bec",
   "metadata": {},
   "outputs": [
    {
     "data": {
      "text/plain": [
       "'Ahmed'"
      ]
     },
     "execution_count": 55,
     "metadata": {},
     "output_type": "execute_result"
    }
   ],
   "source": [
    "names[0]"
   ]
  },
  {
   "cell_type": "markdown",
   "id": "331a81cc",
   "metadata": {},
   "source": []
  },
  {
   "cell_type": "code",
   "execution_count": 56,
   "id": "4310b03f",
   "metadata": {},
   "outputs": [
    {
     "data": {
      "text/plain": [
       "'Ahmed'"
      ]
     },
     "execution_count": 56,
     "metadata": {},
     "output_type": "execute_result"
    }
   ],
   "source": [
    "names[0]"
   ]
  },
  {
   "cell_type": "code",
   "execution_count": 57,
   "id": "630c9495",
   "metadata": {},
   "outputs": [
    {
     "data": {
      "text/plain": [
       "'0123456789'"
      ]
     },
     "execution_count": 57,
     "metadata": {},
     "output_type": "execute_result"
    }
   ],
   "source": [
    "\"\".join([str(i) for i in range(10)])"
   ]
  },
  {
   "cell_type": "code",
   "execution_count": 58,
   "id": "27c69280",
   "metadata": {},
   "outputs": [
    {
     "data": {
      "text/plain": [
       "'range(0, 10)'"
      ]
     },
     "execution_count": 58,
     "metadata": {},
     "output_type": "execute_result"
    }
   ],
   "source": [
    "str(range(10))"
   ]
  },
  {
   "cell_type": "code",
   "execution_count": 59,
   "id": "72d2bac0",
   "metadata": {},
   "outputs": [],
   "source": [
    "x = \"125000\""
   ]
  },
  {
   "cell_type": "code",
   "execution_count": 60,
   "id": "2e39d78d",
   "metadata": {},
   "outputs": [
    {
     "data": {
      "text/plain": [
       "True"
      ]
     },
     "execution_count": 60,
     "metadata": {},
     "output_type": "execute_result"
    }
   ],
   "source": [
    "x.isdigit()"
   ]
  },
  {
   "cell_type": "code",
   "execution_count": 61,
   "id": "b7ae70d1",
   "metadata": {},
   "outputs": [],
   "source": [
    "ids = set()"
   ]
  },
  {
   "cell_type": "code",
   "execution_count": 62,
   "id": "2bbfd8da",
   "metadata": {},
   "outputs": [],
   "source": [
    "ids = set([1,2,3,4,5,6,7,8,9])"
   ]
  },
  {
   "cell_type": "code",
   "execution_count": 63,
   "id": "2ec9f102",
   "metadata": {},
   "outputs": [
    {
     "data": {
      "text/plain": [
       "{1, 2, 3, 4, 5, 6, 7, 8, 9}"
      ]
     },
     "execution_count": 63,
     "metadata": {},
     "output_type": "execute_result"
    }
   ],
   "source": [
    "ids"
   ]
  },
  {
   "cell_type": "code",
   "execution_count": 64,
   "id": "e2a7fe9a",
   "metadata": {},
   "outputs": [
    {
     "data": {
      "text/plain": [
       "9"
      ]
     },
     "execution_count": 64,
     "metadata": {},
     "output_type": "execute_result"
    }
   ],
   "source": [
    "len(ids)"
   ]
  },
  {
   "cell_type": "code",
   "execution_count": 65,
   "id": "4be8069d",
   "metadata": {},
   "outputs": [],
   "source": [
    "ids.add(10)"
   ]
  },
  {
   "cell_type": "code",
   "execution_count": 66,
   "id": "1ee0e58e",
   "metadata": {},
   "outputs": [
    {
     "data": {
      "text/plain": [
       "10"
      ]
     },
     "execution_count": 66,
     "metadata": {},
     "output_type": "execute_result"
    }
   ],
   "source": [
    "len(ids)"
   ]
  },
  {
   "cell_type": "code",
   "execution_count": 67,
   "id": "ad3bf1b1",
   "metadata": {},
   "outputs": [],
   "source": [
    "ids = set(range(11))"
   ]
  },
  {
   "cell_type": "code",
   "execution_count": 68,
   "id": "573307f9",
   "metadata": {},
   "outputs": [
    {
     "data": {
      "text/plain": [
       "{0, 1, 2, 3, 4, 5, 6, 7, 8, 9, 10}"
      ]
     },
     "execution_count": 68,
     "metadata": {},
     "output_type": "execute_result"
    }
   ],
   "source": [
    "ids"
   ]
  },
  {
   "cell_type": "code",
   "execution_count": 69,
   "id": "189cc458",
   "metadata": {},
   "outputs": [],
   "source": [
    "males = set(range(0,11,2))"
   ]
  },
  {
   "cell_type": "code",
   "execution_count": 70,
   "id": "f495f72a",
   "metadata": {},
   "outputs": [
    {
     "data": {
      "text/plain": [
       "{0, 2, 4, 6, 8, 10}"
      ]
     },
     "execution_count": 70,
     "metadata": {},
     "output_type": "execute_result"
    }
   ],
   "source": [
    "males"
   ]
  },
  {
   "cell_type": "code",
   "execution_count": 71,
   "id": "0e73e2ec",
   "metadata": {},
   "outputs": [],
   "source": [
    "females = ids - males"
   ]
  },
  {
   "cell_type": "code",
   "execution_count": 72,
   "id": "9f9bdd40",
   "metadata": {},
   "outputs": [
    {
     "data": {
      "text/plain": [
       "{1, 3, 5, 7, 9}"
      ]
     },
     "execution_count": 72,
     "metadata": {},
     "output_type": "execute_result"
    }
   ],
   "source": [
    "females"
   ]
  },
  {
   "cell_type": "code",
   "execution_count": 73,
   "id": "794e37c5",
   "metadata": {},
   "outputs": [],
   "source": [
    "#union way\n",
    "everyone = males | females"
   ]
  },
  {
   "cell_type": "code",
   "execution_count": 74,
   "id": "5c1f4d5d",
   "metadata": {},
   "outputs": [
    {
     "data": {
      "text/plain": [
       "{0, 1, 2, 3, 4, 5, 6, 7, 8, 9, 10}"
      ]
     },
     "execution_count": 74,
     "metadata": {},
     "output_type": "execute_result"
    }
   ],
   "source": [
    "everyone"
   ]
  },
  {
   "cell_type": "code",
   "execution_count": 75,
   "id": "4ec04f5c",
   "metadata": {},
   "outputs": [
    {
     "data": {
      "text/plain": [
       "set"
      ]
     },
     "execution_count": 75,
     "metadata": {},
     "output_type": "execute_result"
    }
   ],
   "source": [
    "type (everyone)"
   ]
  },
  {
   "cell_type": "code",
   "execution_count": 76,
   "id": "f3350f4f",
   "metadata": {},
   "outputs": [
    {
     "data": {
      "text/plain": [
       "{1, 2, 3}"
      ]
     },
     "execution_count": 76,
     "metadata": {},
     "output_type": "execute_result"
    }
   ],
   "source": [
    "everyone & set([1,2,3])"
   ]
  },
  {
   "cell_type": "code",
   "execution_count": 77,
   "id": "5fd52311",
   "metadata": {},
   "outputs": [],
   "source": [
    "words = \"iwillbehereaftertenmenits\""
   ]
  },
  {
   "cell_type": "code",
   "execution_count": 78,
   "id": "0b7fe5fb",
   "metadata": {},
   "outputs": [],
   "source": [
    "letters = set(words)"
   ]
  },
  {
   "cell_type": "code",
   "execution_count": 79,
   "id": "c55f2f89",
   "metadata": {},
   "outputs": [
    {
     "data": {
      "text/plain": [
       "set"
      ]
     },
     "execution_count": 79,
     "metadata": {},
     "output_type": "execute_result"
    }
   ],
   "source": [
    "type(letters) "
   ]
  },
  {
   "cell_type": "code",
   "execution_count": 80,
   "id": "7d9c529e",
   "metadata": {},
   "outputs": [
    {
     "data": {
      "text/plain": [
       "13"
      ]
     },
     "execution_count": 80,
     "metadata": {},
     "output_type": "execute_result"
    }
   ],
   "source": [
    "# it will be count numbers of uniqe strings\n",
    "len(letters)"
   ]
  },
  {
   "cell_type": "code",
   "execution_count": 81,
   "id": "1531722e",
   "metadata": {},
   "outputs": [],
   "source": [
    "x={1,2,3}"
   ]
  },
  {
   "cell_type": "code",
   "execution_count": 82,
   "id": "1ca631ff",
   "metadata": {},
   "outputs": [],
   "source": [
    "y={2,3,4}"
   ]
  },
  {
   "cell_type": "code",
   "execution_count": 83,
   "id": "c6b7b41c",
   "metadata": {},
   "outputs": [
    {
     "data": {
      "text/plain": [
       "{2, 3}"
      ]
     },
     "execution_count": 83,
     "metadata": {},
     "output_type": "execute_result"
    }
   ],
   "source": [
    "x&y"
   ]
  },
  {
   "cell_type": "code",
   "execution_count": 84,
   "id": "6acfb710",
   "metadata": {},
   "outputs": [
    {
     "data": {
      "text/plain": [
       "{1}"
      ]
     },
     "execution_count": 84,
     "metadata": {},
     "output_type": "execute_result"
    }
   ],
   "source": [
    "x-y"
   ]
  },
  {
   "cell_type": "code",
   "execution_count": 85,
   "id": "b248296e",
   "metadata": {},
   "outputs": [
    {
     "data": {
      "text/plain": [
       "False"
      ]
     },
     "execution_count": 85,
     "metadata": {},
     "output_type": "execute_result"
    }
   ],
   "source": [
    "x.issubset(y)"
   ]
  },
  {
   "cell_type": "code",
   "execution_count": 86,
   "id": "5fd7be4c",
   "metadata": {},
   "outputs": [],
   "source": [
    "age = {}"
   ]
  },
  {
   "cell_type": "code",
   "execution_count": 87,
   "id": "9b96f241",
   "metadata": {},
   "outputs": [],
   "source": [
    "age = dict()"
   ]
  },
  {
   "cell_type": "code",
   "execution_count": 88,
   "id": "f5a1969f",
   "metadata": {},
   "outputs": [],
   "source": [
    "age = {\"one\":1 , \"Two\":2 , \"three\":3}"
   ]
  },
  {
   "cell_type": "code",
   "execution_count": 89,
   "id": "dad43bce",
   "metadata": {},
   "outputs": [
    {
     "data": {
      "text/plain": [
       "{'one': 1, 'Two': 2, 'three': 3}"
      ]
     },
     "execution_count": 89,
     "metadata": {},
     "output_type": "execute_result"
    }
   ],
   "source": [
    "age"
   ]
  },
  {
   "cell_type": "code",
   "execution_count": 90,
   "id": "8ec0ab03",
   "metadata": {},
   "outputs": [
    {
     "data": {
      "text/plain": [
       "2"
      ]
     },
     "execution_count": 90,
     "metadata": {},
     "output_type": "execute_result"
    }
   ],
   "source": [
    "age[\"one\"] +1"
   ]
  },
  {
   "cell_type": "code",
   "execution_count": 91,
   "id": "3f440b1e",
   "metadata": {},
   "outputs": [
    {
     "data": {
      "text/plain": [
       "1"
      ]
     },
     "execution_count": 91,
     "metadata": {},
     "output_type": "execute_result"
    }
   ],
   "source": [
    "age[\"one\"]"
   ]
  },
  {
   "cell_type": "code",
   "execution_count": 92,
   "id": "1c87b57e",
   "metadata": {},
   "outputs": [],
   "source": [
    "age [\"one\"] = age[\"one\"] +1"
   ]
  },
  {
   "cell_type": "code",
   "execution_count": 93,
   "id": "5246a003",
   "metadata": {},
   "outputs": [
    {
     "data": {
      "text/plain": [
       "2"
      ]
     },
     "execution_count": 93,
     "metadata": {},
     "output_type": "execute_result"
    }
   ],
   "source": [
    "age[\"one\"]"
   ]
  },
  {
   "cell_type": "code",
   "execution_count": 94,
   "id": "4d9898df",
   "metadata": {},
   "outputs": [],
   "source": [
    "age[\"one\"] +=1"
   ]
  },
  {
   "cell_type": "code",
   "execution_count": 95,
   "id": "b2e0e447",
   "metadata": {},
   "outputs": [
    {
     "data": {
      "text/plain": [
       "3"
      ]
     },
     "execution_count": 95,
     "metadata": {},
     "output_type": "execute_result"
    }
   ],
   "source": [
    "age[\"one\"] "
   ]
  },
  {
   "cell_type": "code",
   "execution_count": 96,
   "id": "225f4306",
   "metadata": {},
   "outputs": [],
   "source": [
    "L = [1,2,3]"
   ]
  },
  {
   "cell_type": "code",
   "execution_count": 97,
   "id": "013d0b78",
   "metadata": {},
   "outputs": [],
   "source": [
    "M = list(L)"
   ]
  },
  {
   "cell_type": "code",
   "execution_count": 98,
   "id": "21c089a7",
   "metadata": {},
   "outputs": [
    {
     "data": {
      "text/plain": [
       "True"
      ]
     },
     "execution_count": 98,
     "metadata": {},
     "output_type": "execute_result"
    }
   ],
   "source": [
    "L == M"
   ]
  },
  {
   "cell_type": "code",
   "execution_count": 99,
   "id": "5ca7fd91",
   "metadata": {},
   "outputs": [
    {
     "data": {
      "text/plain": [
       "False"
      ]
     },
     "execution_count": 99,
     "metadata": {},
     "output_type": "execute_result"
    }
   ],
   "source": [
    "L is M"
   ]
  },
  {
   "cell_type": "code",
   "execution_count": 100,
   "id": "d17d28af",
   "metadata": {},
   "outputs": [
    {
     "data": {
      "text/plain": [
       "140314063073216"
      ]
     },
     "execution_count": 100,
     "metadata": {},
     "output_type": "execute_result"
    }
   ],
   "source": [
    "id(M)"
   ]
  },
  {
   "cell_type": "code",
   "execution_count": 101,
   "id": "3e6cd71a",
   "metadata": {},
   "outputs": [
    {
     "data": {
      "text/plain": [
       "140313231701376"
      ]
     },
     "execution_count": 101,
     "metadata": {},
     "output_type": "execute_result"
    }
   ],
   "source": [
    "id(L)"
   ]
  },
  {
   "cell_type": "code",
   "execution_count": 102,
   "id": "257498cd",
   "metadata": {},
   "outputs": [],
   "source": [
    "L1 = [2,3,4]\n",
    "L2 = L1"
   ]
  },
  {
   "cell_type": "code",
   "execution_count": 103,
   "id": "e312657e",
   "metadata": {},
   "outputs": [
    {
     "data": {
      "text/plain": [
       "True"
      ]
     },
     "execution_count": 103,
     "metadata": {},
     "output_type": "execute_result"
    }
   ],
   "source": [
    "L2 is L1"
   ]
  },
  {
   "cell_type": "code",
   "execution_count": 104,
   "id": "dd943b60",
   "metadata": {},
   "outputs": [],
   "source": [
    "L2[1] = 24"
   ]
  },
  {
   "cell_type": "code",
   "execution_count": 105,
   "id": "a91e33fd",
   "metadata": {},
   "outputs": [
    {
     "data": {
      "text/plain": [
       "[2, 24, 4]"
      ]
     },
     "execution_count": 105,
     "metadata": {},
     "output_type": "execute_result"
    }
   ],
   "source": [
    "L1"
   ]
  },
  {
   "cell_type": "code",
   "execution_count": 106,
   "id": "c1dba30d",
   "metadata": {},
   "outputs": [
    {
     "data": {
      "text/plain": [
       "False"
      ]
     },
     "execution_count": 106,
     "metadata": {},
     "output_type": "execute_result"
    }
   ],
   "source": [
    "xL = [2,3,4]\n",
    "M1 = L\n",
    "M2 = L[:]\n",
    "M1 is M2"
   ]
  },
  {
   "cell_type": "code",
   "execution_count": 107,
   "id": "8dfabfc0",
   "metadata": {},
   "outputs": [
    {
     "data": {
      "text/plain": [
       "True"
      ]
     },
     "execution_count": 107,
     "metadata": {},
     "output_type": "execute_result"
    }
   ],
   "source": [
    "M1 is L"
   ]
  },
  {
   "cell_type": "code",
   "execution_count": 109,
   "id": "82ecb55c",
   "metadata": {},
   "outputs": [],
   "source": [
    "import copy\n",
    "x = [1,[2]]\n",
    "y = copy.copy(x)\n",
    "z = copy.deepcopy(x)"
   ]
  },
  {
   "cell_type": "code",
   "execution_count": 110,
   "id": "1925b6f6",
   "metadata": {},
   "outputs": [
    {
     "data": {
      "text/plain": [
       "False"
      ]
     },
     "execution_count": 110,
     "metadata": {},
     "output_type": "execute_result"
    }
   ],
   "source": [
    "y is z"
   ]
  },
  {
   "cell_type": "code",
   "execution_count": 111,
   "id": "c447510b",
   "metadata": {},
   "outputs": [
    {
     "data": {
      "text/plain": [
       "True"
      ]
     },
     "execution_count": 111,
     "metadata": {},
     "output_type": "execute_result"
    }
   ],
   "source": [
    "y == z"
   ]
  },
  {
   "cell_type": "code",
   "execution_count": 112,
   "id": "6ec59528",
   "metadata": {},
   "outputs": [
    {
     "name": "stdout",
     "output_type": "stream",
     "text": [
      "Now True!\n"
     ]
    }
   ],
   "source": [
    "if False:\n",
    "    print(\"False!\")\n",
    "elif True:\n",
    "    print(\"Now True!\")\n",
    "else:\n",
    "    print(\"Finally True!\")"
   ]
  },
  {
   "cell_type": "code",
   "execution_count": 114,
   "id": "e35dd6aa",
   "metadata": {},
   "outputs": [
    {
     "name": "stdout",
     "output_type": "stream",
     "text": [
      "0\n",
      "1\n",
      "2\n",
      "3\n",
      "4\n",
      "5\n",
      "6\n",
      "7\n",
      "8\n",
      "9\n"
     ]
    }
   ],
   "source": [
    "for x in range(10):\n",
    "    print (x)"
   ]
  },
  {
   "cell_type": "code",
   "execution_count": 123,
   "id": "a0955718",
   "metadata": {},
   "outputs": [],
   "source": [
    "ages ={'Ahmed':44 , 'Mahmoud':22 , 'Kariem':33}"
   ]
  },
  {
   "cell_type": "markdown",
   "id": "3abf761f",
   "metadata": {},
   "source": [
    "#### ages"
   ]
  },
  {
   "cell_type": "code",
   "execution_count": 124,
   "id": "b76597dd",
   "metadata": {},
   "outputs": [
    {
     "data": {
      "text/plain": [
       "dict_keys(['Ahmed', 'Mahmoud', 'Kariem'])"
      ]
     },
     "execution_count": 124,
     "metadata": {},
     "output_type": "execute_result"
    }
   ],
   "source": [
    "ages.keys()"
   ]
  },
  {
   "cell_type": "code",
   "execution_count": 125,
   "id": "7fca70ba",
   "metadata": {},
   "outputs": [
    {
     "name": "stdout",
     "output_type": "stream",
     "text": [
      "Ahmed 44\n",
      "Mahmoud 22\n",
      "Kariem 33\n"
     ]
    }
   ],
   "source": [
    "for x in ages:\n",
    "    print (x ,ages[x])"
   ]
  },
  {
   "cell_type": "code",
   "execution_count": 126,
   "id": "ef80a0ba",
   "metadata": {},
   "outputs": [
    {
     "name": "stdout",
     "output_type": "stream",
     "text": [
      "Ahmed 44\n",
      "Mahmoud 22\n",
      "Kariem 33\n"
     ]
    }
   ],
   "source": [
    "for names in ages:\n",
    "    print (names,ages[names])"
   ]
  },
  {
   "cell_type": "code",
   "execution_count": 127,
   "id": "1711a9f5",
   "metadata": {},
   "outputs": [
    {
     "name": "stdout",
     "output_type": "stream",
     "text": [
      "Ahmed 44\n",
      "Kariem 33\n",
      "Mahmoud 22\n"
     ]
    }
   ],
   "source": [
    "for names in sorted(ages.keys()):\n",
    "    print (names,ages[names])"
   ]
  },
  {
   "cell_type": "code",
   "execution_count": 129,
   "id": "b9f7982d",
   "metadata": {},
   "outputs": [
    {
     "name": "stdout",
     "output_type": "stream",
     "text": [
      "Mahmoud 22\n",
      "Kariem 33\n",
      "Ahmed 44\n"
     ]
    }
   ],
   "source": [
    "for names in sorted(ages.keys(), reverse = True):\n",
    "    print (names,ages[names])"
   ]
  },
  {
   "cell_type": "code",
   "execution_count": 130,
   "id": "7597109a",
   "metadata": {},
   "outputs": [],
   "source": [
    "bears = {\"Grizzly\":\"angry\", \"Brown\":\"friendly\", \"Polar\":\"friendly\"}"
   ]
  },
  {
   "cell_type": "code",
   "execution_count": 145,
   "id": "a68d20c4",
   "metadata": {},
   "outputs": [
    {
     "name": "stdout",
     "output_type": "stream",
     "text": [
      "odd\n",
      "Hello, Polar bear!\n",
      "Hello, Polar bear!\n"
     ]
    }
   ],
   "source": [
    "for x in bears:\n",
    "    if(bears[x] == \"friendly\"):\n",
    "        print(\"Hello, \"+bear+\" bear!\")\n",
    "    else:\n",
    "        print(\"odd\")"
   ]
  },
  {
   "cell_type": "code",
   "execution_count": 147,
   "id": "7ef91dd0",
   "metadata": {},
   "outputs": [
    {
     "name": "stdout",
     "output_type": "stream",
     "text": [
      "False\n"
     ]
    }
   ],
   "source": [
    "n=100\n",
    "is_prime = True\n",
    "for i in range(2,n):\n",
    "    if n%i == 0:\n",
    "        is_prime = False\n",
    "print(is_prime)"
   ]
  },
  {
   "cell_type": "code",
   "execution_count": 148,
   "id": "956d07d0",
   "metadata": {},
   "outputs": [
    {
     "name": "stdout",
     "output_type": "stream",
     "text": [
      "7\n"
     ]
    }
   ],
   "source": [
    "n=100\n",
    "number_of_times = 0\n",
    "while n >= 1:\n",
    "    n //= 2\n",
    "    number_of_times += 1\n",
    "print(number_of_times)"
   ]
  },
  {
   "cell_type": "code",
   "execution_count": 149,
   "id": "8194c99c",
   "metadata": {},
   "outputs": [],
   "source": [
    "numbers = range(10)\n",
    "squares = []\n",
    "\n",
    "for x in numbers:\n",
    "    square = x**2\n",
    "    squares.append(square)"
   ]
  },
  {
   "cell_type": "code",
   "execution_count": 150,
   "id": "25ada4b7",
   "metadata": {},
   "outputs": [
    {
     "data": {
      "text/plain": [
       "[0, 1, 4, 9, 16, 25, 36, 49, 64, 81]"
      ]
     },
     "execution_count": 150,
     "metadata": {},
     "output_type": "execute_result"
    }
   ],
   "source": [
    "squares"
   ]
  },
  {
   "cell_type": "code",
   "execution_count": 153,
   "id": "3a96cbf5",
   "metadata": {},
   "outputs": [],
   "source": [
    "squares2 = [number**2 for number in numbers ]"
   ]
  },
  {
   "cell_type": "markdown",
   "id": "cf7fe2f8",
   "metadata": {},
   "source": [
    "## List Comprehensions"
   ]
  },
  {
   "cell_type": "code",
   "execution_count": 154,
   "id": "f3932ced",
   "metadata": {},
   "outputs": [
    {
     "data": {
      "text/plain": [
       "[0, 1, 4, 9, 16, 25, 36, 49, 64, 81]"
      ]
     },
     "execution_count": 154,
     "metadata": {},
     "output_type": "execute_result"
    }
   ],
   "source": [
    "squares2"
   ]
  },
  {
   "cell_type": "code",
   "execution_count": 156,
   "id": "ab0f1139",
   "metadata": {},
   "outputs": [],
   "source": [
    "qubes =[x**3 for x in numbers]"
   ]
  },
  {
   "cell_type": "code",
   "execution_count": 157,
   "id": "23ebd146",
   "metadata": {},
   "outputs": [
    {
     "data": {
      "text/plain": [
       "[0, 1, 8, 27, 64, 125, 216, 343, 512, 729]"
      ]
     },
     "execution_count": 157,
     "metadata": {},
     "output_type": "execute_result"
    }
   ],
   "source": [
    "qubes"
   ]
  },
  {
   "cell_type": "code",
   "execution_count": 161,
   "id": "7a029cd0",
   "metadata": {},
   "outputs": [
    {
     "data": {
      "text/plain": [
       "25"
      ]
     },
     "execution_count": 161,
     "metadata": {},
     "output_type": "execute_result"
    }
   ],
   "source": [
    "sum(i for i in range(10) if i%2==1)"
   ]
  },
  {
   "cell_type": "markdown",
   "id": "48152eda",
   "metadata": {},
   "source": [
    "### create file "
   ]
  },
  {
   "cell_type": "code",
   "execution_count": 171,
   "id": "adccd362",
   "metadata": {},
   "outputs": [],
   "source": [
    "filename = \"input.txt\""
   ]
  },
  {
   "cell_type": "code",
   "execution_count": 172,
   "id": "81634732",
   "metadata": {},
   "outputs": [
    {
     "ename": "FileNotFoundError",
     "evalue": "[Errno 2] No such file or directory: 'input.txt'",
     "output_type": "error",
     "traceback": [
      "\u001b[0;31m---------------------------------------------------------------------------\u001b[0m",
      "\u001b[0;31mFileNotFoundError\u001b[0m                         Traceback (most recent call last)",
      "Input \u001b[0;32mIn [172]\u001b[0m, in \u001b[0;36m<cell line: 1>\u001b[0;34m()\u001b[0m\n\u001b[0;32m----> 1\u001b[0m \u001b[38;5;28;01mfor\u001b[39;00m line \u001b[38;5;129;01min\u001b[39;00m \u001b[38;5;28;43mopen\u001b[39;49m\u001b[43m(\u001b[49m\u001b[43mfilename\u001b[49m\u001b[43m)\u001b[49m:\n\u001b[1;32m      2\u001b[0m     \u001b[38;5;28mprint\u001b[39m (line)\n",
      "\u001b[0;31mFileNotFoundError\u001b[0m: [Errno 2] No such file or directory: 'input.txt'"
     ]
    }
   ],
   "source": [
    "for line in open(filename):\n",
    "    print (line)\n",
    "    "
   ]
  },
  {
   "cell_type": "code",
   "execution_count": 173,
   "id": "34ae81c2",
   "metadata": {},
   "outputs": [
    {
     "name": "stdout",
     "output_type": "stream",
     "text": [
      "['Hello', 'World']\n"
     ]
    }
   ],
   "source": [
    "F = open(\"input.txt\", \"w\")\n",
    "F.write(\"Hello\\nWorld\")\n",
    "F.close()\n",
    "lines = []\n",
    "for line in open(\"input.txt\"):\n",
    "    lines.append(line.strip())\n",
    "print(lines)"
   ]
  },
  {
   "cell_type": "markdown",
   "id": "c4b2df0f",
   "metadata": {},
   "source": [
    "## Functions "
   ]
  },
  {
   "cell_type": "code",
   "execution_count": 180,
   "id": "a98a8186",
   "metadata": {},
   "outputs": [],
   "source": [
    "def add(a,b):\n",
    "    ret = a+b\n",
    "    return ret;"
   ]
  },
  {
   "cell_type": "code",
   "execution_count": 181,
   "id": "c6cd0216",
   "metadata": {},
   "outputs": [
    {
     "data": {
      "text/plain": [
       "5"
      ]
     },
     "execution_count": 181,
     "metadata": {},
     "output_type": "execute_result"
    }
   ],
   "source": [
    "add(2,3)"
   ]
  },
  {
   "cell_type": "code",
   "execution_count": 185,
   "id": "f5452c11",
   "metadata": {},
   "outputs": [],
   "source": [
    "def addsub (a,b):\n",
    "    add = a+b\n",
    "    sub = a-b\n",
    "    return(add,sub)"
   ]
  },
  {
   "cell_type": "code",
   "execution_count": 186,
   "id": "e95f042d",
   "metadata": {},
   "outputs": [
    {
     "data": {
      "text/plain": [
       "(30, -10)"
      ]
     },
     "execution_count": 186,
     "metadata": {},
     "output_type": "execute_result"
    }
   ],
   "source": [
    "addsub(10,20)"
   ]
  },
  {
   "cell_type": "code",
   "execution_count": 187,
   "id": "1d0c796a",
   "metadata": {},
   "outputs": [],
   "source": [
    "def modify(mylist):\n",
    "    mylist[0] *=10\n",
    "    "
   ]
  },
  {
   "cell_type": "code",
   "execution_count": 188,
   "id": "85c4c3e0",
   "metadata": {},
   "outputs": [],
   "source": [
    "l = [1,2,3,4]\n"
   ]
  },
  {
   "cell_type": "code",
   "execution_count": 189,
   "id": "f141e88c",
   "metadata": {},
   "outputs": [],
   "source": [
    "modify (l)"
   ]
  },
  {
   "cell_type": "code",
   "execution_count": 190,
   "id": "64efebbc",
   "metadata": {},
   "outputs": [
    {
     "data": {
      "text/plain": [
       "[10, 2, 3, 4]"
      ]
     },
     "execution_count": 190,
     "metadata": {},
     "output_type": "execute_result"
    }
   ],
   "source": [
    "l"
   ]
  },
  {
   "cell_type": "code",
   "execution_count": 191,
   "id": "d8f9a670",
   "metadata": {},
   "outputs": [
    {
     "data": {
      "text/plain": [
       "True"
      ]
     },
     "execution_count": 191,
     "metadata": {},
     "output_type": "execute_result"
    }
   ],
   "source": [
    "def modify(mylist):\n",
    "    mylist[0] *= 10\n",
    "    return(mylist)\n",
    "L = [1, 3, 5, 7, 9]\n",
    "M = modify(L)\n",
    "M is L"
   ]
  },
  {
   "cell_type": "code",
   "execution_count": 192,
   "id": "7604752d",
   "metadata": {},
   "outputs": [
    {
     "data": {
      "text/plain": [
       "[10, 3, 5, 7, 9]"
      ]
     },
     "execution_count": 192,
     "metadata": {},
     "output_type": "execute_result"
    }
   ],
   "source": [
    "M"
   ]
  },
  {
   "cell_type": "code",
   "execution_count": 193,
   "id": "deedceb2",
   "metadata": {},
   "outputs": [
    {
     "data": {
      "text/plain": [
       "[10, 3, 5, 7, 9]"
      ]
     },
     "execution_count": 193,
     "metadata": {},
     "output_type": "execute_result"
    }
   ],
   "source": [
    "L"
   ]
  },
  {
   "cell_type": "code",
   "execution_count": 198,
   "id": "f431b4ed",
   "metadata": {},
   "outputs": [],
   "source": [
    "def intersect(s1,s2):\n",
    "    result=[]\n",
    "    for x in s1:\n",
    "        if x in s2:\n",
    "            result.append(x)\n",
    "    return result"
   ]
  },
  {
   "cell_type": "code",
   "execution_count": 199,
   "id": "ed83d1e6",
   "metadata": {},
   "outputs": [],
   "source": [
    "L1 = [1,2,3,4,5,6,7,8]\n",
    "L2 = [2,4,6,7,8]"
   ]
  },
  {
   "cell_type": "code",
   "execution_count": 201,
   "id": "86463c62",
   "metadata": {},
   "outputs": [
    {
     "data": {
      "text/plain": [
       "[2, 4, 6, 7, 8]"
      ]
     },
     "execution_count": 201,
     "metadata": {},
     "output_type": "execute_result"
    }
   ],
   "source": [
    "intersect(L1,L2)"
   ]
  },
  {
   "cell_type": "code",
   "execution_count": 211,
   "id": "4a13ff79",
   "metadata": {},
   "outputs": [],
   "source": [
    "import random\n",
    "def password(length):\n",
    "    pw = str()\n",
    "    ch = \"abcdefghi\"\n",
    "    \n",
    "    for i in range(length):\n",
    "        pw = pw + random.choice(ch)\n",
    "    return pw"
   ]
  },
  {
   "cell_type": "code",
   "execution_count": 213,
   "id": "2c8b40f0",
   "metadata": {},
   "outputs": [
    {
     "data": {
      "text/plain": [
       "'behacbaciahficfgbiga'"
      ]
     },
     "execution_count": 213,
     "metadata": {},
     "output_type": "execute_result"
    }
   ],
   "source": [
    "password (20)"
   ]
  },
  {
   "cell_type": "code",
   "execution_count": null,
   "id": "1972994f",
   "metadata": {},
   "outputs": [],
   "source": []
  }
 ],
 "metadata": {
  "kernelspec": {
   "display_name": "Python 3 (ipykernel)",
   "language": "python",
   "name": "python3"
  },
  "language_info": {
   "codemirror_mode": {
    "name": "ipython",
    "version": 3
   },
   "file_extension": ".py",
   "mimetype": "text/x-python",
   "name": "python",
   "nbconvert_exporter": "python",
   "pygments_lexer": "ipython3",
   "version": "3.9.12"
  }
 },
 "nbformat": 4,
 "nbformat_minor": 5
}
